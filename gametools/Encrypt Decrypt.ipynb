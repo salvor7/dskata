{
 "cells": [
  {
   "cell_type": "code",
   "execution_count": 76,
   "metadata": {
    "ExecuteTime": {
     "end_time": "2017-09-17T22:04:17.329609Z",
     "start_time": "2017-09-17T22:04:17.325599Z"
    }
   },
   "outputs": [],
   "source": [
    "import itertools\n",
    "\n",
    "from nltk.corpus import wordnet\n"
   ]
  },
  {
   "cell_type": "code",
   "execution_count": 2,
   "metadata": {
    "ExecuteTime": {
     "end_time": "2017-09-17T22:04:17.481985Z",
     "start_time": "2017-09-17T22:04:17.331615Z"
    }
   },
   "outputs": [],
   "source": [
    "s = 'Hello there Michael!'"
   ]
  },
  {
   "cell_type": "code",
   "execution_count": 3,
   "metadata": {
    "ExecuteTime": {
     "end_time": "2017-09-17T22:04:17.568613Z",
     "start_time": "2017-09-17T22:04:17.490340Z"
    }
   },
   "outputs": [
    {
     "data": {
      "text/plain": [
       "'!leahciM ereht olleH'"
      ]
     },
     "execution_count": 3,
     "metadata": {},
     "output_type": "execute_result"
    }
   ],
   "source": [
    "s[::-1]"
   ]
  },
  {
   "cell_type": "code",
   "execution_count": 4,
   "metadata": {
    "ExecuteTime": {
     "end_time": "2017-09-17T22:04:17.651433Z",
     "start_time": "2017-09-17T22:04:17.570585Z"
    }
   },
   "outputs": [],
   "source": [
    "message = 'GUVF VF ZL FRPERG ZRFFNTR.'"
   ]
  },
  {
   "cell_type": "code",
   "execution_count": 48,
   "metadata": {
    "ExecuteTime": {
     "end_time": "2017-09-17T22:04:17.757519Z",
     "start_time": "2017-09-17T22:04:17.653440Z"
    }
   },
   "outputs": [],
   "source": [
    "LETTERS = 'abcdefghijklmnopqrstuvwxyz'\n",
    "CONSONANTS = 'bcdfghjklmnpqrstvwxz'\n",
    "impossible_consonant_subwords = set([''.join(subword) for subword in itertools.product(CONSONANTS, repeat=5)])"
   ]
  },
  {
   "cell_type": "code",
   "execution_count": 49,
   "metadata": {
    "ExecuteTime": {
     "end_time": "2017-09-17T22:04:17.848071Z",
     "start_time": "2017-09-17T22:04:17.766581Z"
    }
   },
   "outputs": [],
   "source": [
    "def caesar_encrypt(msg, key): \n",
    "    cae_map = {}\n",
    "    for i, letter in enumerate(LETTERS):\n",
    "        cae_map[letter] = LETTERS[(i + key) % 26]\n",
    "    msg = msg.lower()\n",
    "    encrypted_letters = []\n",
    "    for char in msg:\n",
    "        try:\n",
    "            encrypted_letters.append(cae_map[char])\n",
    "        except KeyError:\n",
    "            encrypted_letters.append(char)\n",
    "    return ''.join(encrypted_letters)"
   ]
  },
  {
   "cell_type": "code",
   "execution_count": 78,
   "metadata": {},
   "outputs": [
    {
     "data": {
      "text/plain": [
       "True"
      ]
     },
     "execution_count": 78,
     "metadata": {},
     "output_type": "execute_result"
    }
   ],
   "source": [
    "def english_words(msg):\n",
    "    \"\"\"Filter for english words\n",
    "    \"\"\"\n",
    "    msg = msg.lower()\n",
    "    for word in msg.split(' '):\n",
    "\n",
    "        if not wordnet.synsets(word):\n",
    "            return False\n",
    "    return True\n",
    "possibly_english('Andrew')"
   ]
  },
  {
   "cell_type": "code",
   "execution_count": 79,
   "metadata": {
    "ExecuteTime": {
     "end_time": "2017-09-17T22:04:17.971940Z",
     "start_time": "2017-09-17T22:04:17.850108Z"
    }
   },
   "outputs": [
    {
     "data": {
      "text/plain": [
       "'jxyi yi co iushuj cuiiqwu.'"
      ]
     },
     "execution_count": 79,
     "metadata": {},
     "output_type": "execute_result"
    }
   ],
   "source": [
    "caesar_encrypt(message, 3)"
   ]
  },
  {
   "cell_type": "code",
   "execution_count": 109,
   "metadata": {
    "ExecuteTime": {
     "end_time": "2017-09-17T22:04:18.063690Z",
     "start_time": "2017-09-17T22:04:17.973946Z"
    }
   },
   "outputs": [],
   "source": [
    "def crack_caeser(msg, show_all=False):\n",
    "    for i in range(26):\n",
    "        cipher_text = caesar_encrypt(msg, i)\n",
    "        if show_all or english_words(cipher_text):\n",
    "            print(i, cipher_text)\n"
   ]
  },
  {
   "cell_type": "code",
   "execution_count": 110,
   "metadata": {
    "ExecuteTime": {
     "end_time": "2017-09-17T22:04:18.165966Z",
     "start_time": "2017-09-17T22:04:18.072713Z"
    },
    "scrolled": true
   },
   "outputs": [],
   "source": [
    "crack_caeser('rlllf')"
   ]
  },
  {
   "cell_type": "code",
   "execution_count": 111,
   "metadata": {
    "ExecuteTime": {
     "end_time": "2017-09-17T22:04:18.257032Z",
     "start_time": "2017-09-17T22:04:18.168974Z"
    }
   },
   "outputs": [],
   "source": [
    "guides4_10 = 'ICDNOITOSERTRDRFIAENCRATETINEOCSNE'"
   ]
  },
  {
   "cell_type": "code",
   "execution_count": 112,
   "metadata": {
    "ExecuteTime": {
     "end_time": "2017-09-17T22:04:18.368317Z",
     "start_time": "2017-09-17T22:04:18.262045Z"
    }
   },
   "outputs": [],
   "source": [
    "crack_caeser(guides4_10)"
   ]
  },
  {
   "cell_type": "code",
   "execution_count": 113,
   "metadata": {
    "ExecuteTime": {
     "end_time": "2017-09-17T22:04:18.438633Z",
     "start_time": "2017-09-17T22:04:18.370278Z"
    }
   },
   "outputs": [],
   "source": [
    "msg = 'Lb, fb unir lbh orra cynlvat gung arj Zrfbcrgf tnzr? Gubfr arj Zrtnybalpuvqnr naq Oenqlcbqvqnr gurl nqqrq ner cerggl pbby. Npghnyyl, V jbhyq tb nf sne nf fnlvat gung vg vf abj zl yvsrf qrnerfg nzovgvba gb bognva n \"Vasyngnoyr Fybgu Zbafgre\"!'"
   ]
  },
  {
   "cell_type": "code",
   "execution_count": 114,
   "metadata": {
    "ExecuteTime": {
     "end_time": "2017-09-17T22:04:18.525328Z",
     "start_time": "2017-09-17T22:04:18.442652Z"
    }
   },
   "outputs": [],
   "source": [
    "crack_caeser(msg)"
   ]
  },
  {
   "cell_type": "code",
   "execution_count": 115,
   "metadata": {
    "ExecuteTime": {
     "end_time": "2017-09-17T22:53:09.528819Z",
     "start_time": "2017-09-17T22:53:09.515807Z"
    }
   },
   "outputs": [],
   "source": [
    "crack_caeser('imthst')"
   ]
  },
  {
   "cell_type": "code",
   "execution_count": 138,
   "metadata": {},
   "outputs": [],
   "source": [
    "crack_caeser('dbea' )"
   ]
  },
  {
   "cell_type": "code",
   "execution_count": null,
   "metadata": {},
   "outputs": [],
   "source": []
  }
 ],
 "metadata": {
  "hide_input": false,
  "kernelspec": {
   "display_name": "Python [default]",
   "language": "python",
   "name": "python3"
  },
  "language_info": {
   "codemirror_mode": {
    "name": "ipython",
    "version": 3
   },
   "file_extension": ".py",
   "mimetype": "text/x-python",
   "name": "python",
   "nbconvert_exporter": "python",
   "pygments_lexer": "ipython3",
   "version": "3.6.4"
  },
  "varInspector": {
   "cols": {
    "lenName": 16,
    "lenType": 16,
    "lenVar": 40
   },
   "kernels_config": {
    "python": {
     "delete_cmd_postfix": "",
     "delete_cmd_prefix": "del ",
     "library": "var_list.py",
     "varRefreshCmd": "print(var_dic_list())"
    },
    "r": {
     "delete_cmd_postfix": ") ",
     "delete_cmd_prefix": "rm(",
     "library": "var_list.r",
     "varRefreshCmd": "cat(var_dic_list()) "
    }
   },
   "types_to_exclude": [
    "module",
    "function",
    "builtin_function_or_method",
    "instance",
    "_Feature"
   ],
   "window_display": false
  }
 },
 "nbformat": 4,
 "nbformat_minor": 2
}

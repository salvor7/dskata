{
 "cells": [
  {
   "cell_type": "code",
   "execution_count": 1,
   "metadata": {},
   "outputs": [],
   "source": [
    "import numpy as np\n",
    "import pandas as pd"
   ]
  },
  {
   "cell_type": "code",
   "execution_count": 2,
   "metadata": {},
   "outputs": [],
   "source": [
    "msft = pd.read_csv('MSFT.csv')\n",
    "goog = pd.read_csv('GOOG.csv')\n",
    "aapl = pd.read_csv('AAPL.csv')\n",
    "spy = pd.read_csv('SPY.csv')"
   ]
  },
  {
   "cell_type": "code",
   "execution_count": 3,
   "metadata": {},
   "outputs": [],
   "source": [
    "full_histories = np.concatenate([pd.DataFrame(df['Adj Close']) for df in [msft, goog, aapl, spy]], axis=1)"
   ]
  },
  {
   "cell_type": "code",
   "execution_count": 12,
   "metadata": {},
   "outputs": [],
   "source": [
    "yearly_periods = 12\n",
    "histories = full_histories[::len(full_histories)//(10*yearly_periods),:]\n",
    "\n",
    "money_row = np.ones(shape=(len(histories),1))\n",
    "histories = np.concatenate((money_row, histories), axis=1)"
   ]
  },
  {
   "cell_type": "code",
   "execution_count": 13,
   "metadata": {},
   "outputs": [
    {
     "data": {
      "text/plain": [
       "((126, 1), (126, 5))"
      ]
     },
     "execution_count": 13,
     "metadata": {},
     "output_type": "execute_result"
    }
   ],
   "source": [
    "money_row.shape, histories.shape"
   ]
  },
  {
   "cell_type": "code",
   "execution_count": 35,
   "metadata": {},
   "outputs": [
    {
     "name": "stdout",
     "output_type": "stream",
     "text": [
      "Trigger: 0.01 Avg value: 380934.0\n",
      "Trigger: 0.02 Avg value: 383653.0\n",
      "Trigger: 0.03 Avg value: 385036.0\n",
      "Trigger: 0.04 Avg value: 386406.0\n",
      "Trigger: 0.05 Avg value: 386946.0\n",
      "Trigger: 0.06 Avg value: 387181.0\n",
      "Trigger: 0.07 Avg value: 387408.0\n",
      "Trigger: 0.08 Avg value: 386980.0\n",
      "Trigger: 0.09 Avg value: 387198.0\n",
      "Trigger: 0.1 Avg value: 387159.0\n",
      "Trigger: 0.11 Avg value: 387497.0\n",
      "Trigger: 0.12 Avg value: 387522.0\n",
      "Trigger: 0.13 Avg value: 387445.0\n",
      "Trigger: 0.14 Avg value: 388027.0\n",
      "Trigger: 0.15 Avg value: 387761.0\n",
      "Trigger: 0.16 Avg value: 387852.0\n",
      "Trigger: 0.17 Avg value: 388326.0\n",
      "Trigger: 0.18 Avg value: 388246.0\n",
      "Trigger: 0.19 Avg value: 388141.0\n",
      "Trigger: 0.2 Avg value: 388676.0\n",
      "Trigger: 0.21 Avg value: 388787.0\n",
      "Trigger: 0.22 Avg value: 388601.0\n",
      "Trigger: 0.23 Avg value: 388334.0\n",
      "Trigger: 0.24 Avg value: 387537.0\n",
      "Trigger: 0.25 Avg value: 386895.0\n",
      "Trigger: 0.26 Avg value: 386033.0\n",
      "Trigger: 0.27 Avg value: 385450.0\n",
      "Trigger: 0.28 Avg value: 385128.0\n",
      "Trigger: 0.29 Avg value: 385483.0\n",
      "Trigger: 0.3 Avg value: 385949.0\n",
      "Trigger: 0.31 Avg value: 386498.0\n",
      "Trigger: 0.32 Avg value: 386527.0\n",
      "Trigger: 0.33 Avg value: 386433.0\n",
      "Trigger: 0.34 Avg value: 386440.0\n",
      "Trigger: 0.35 Avg value: 386619.0\n",
      "Trigger: 0.36 Avg value: 386997.0\n",
      "Trigger: 0.37 Avg value: 386855.0\n",
      "Trigger: 0.38 Avg value: 387343.0\n",
      "Trigger: 0.39 Avg value: 387246.0\n",
      "Trigger: 0.4 Avg value: 387181.0\n",
      "Trigger: 0.41 Avg value: 387786.0\n",
      "Trigger: 0.42 Avg value: 387677.0\n",
      "Trigger: 0.43 Avg value: 388122.0\n",
      "Trigger: 0.44 Avg value: 388556.0\n",
      "Trigger: 0.45 Avg value: 388346.0\n",
      "Trigger: 0.46 Avg value: 388261.0\n",
      "Trigger: 0.47 Avg value: 388217.0\n",
      "Trigger: 0.48 Avg value: 387502.0\n",
      "Trigger: 0.49 Avg value: 386888.0\n",
      "Trigger: 0.5 Avg value: 386294.0\n",
      "Trigger: 0.51 Avg value: 385746.0\n",
      "Trigger: 0.52 Avg value: 385287.0\n",
      "Trigger: 0.53 Avg value: 384774.0\n",
      "Trigger: 0.54 Avg value: 384251.0\n",
      "Trigger: 0.55 Avg value: 383641.0\n",
      "Trigger: 0.56 Avg value: 382437.0\n",
      "Trigger: 0.57 Avg value: 381276.0\n",
      "Trigger: 0.58 Avg value: 380182.0\n",
      "Trigger: 0.59 Avg value: 379124.0\n",
      "Trigger: 0.6 Avg value: 378104.0\n",
      "Trigger: 0.61 Avg value: 377144.0\n",
      "Trigger: 0.62 Avg value: 376215.0\n",
      "Trigger: 0.63 Avg value: 375315.0\n",
      "Trigger: 0.64 Avg value: 374443.0\n",
      "Trigger: 0.65 Avg value: 373608.0\n",
      "Trigger: 0.66 Avg value: 372814.0\n",
      "Trigger: 0.67 Avg value: 372044.0\n",
      "Trigger: 0.68 Avg value: 371305.0\n",
      "Trigger: 0.69 Avg value: 370588.0\n",
      "Trigger: 0.7 Avg value: 369891.0\n",
      "Trigger: 0.71 Avg value: 369235.0\n",
      "Trigger: 0.72 Avg value: 368598.0\n",
      "Trigger: 0.73 Avg value: 367979.0\n",
      "Trigger: 0.74 Avg value: 367380.0\n",
      "Trigger: 0.75 Avg value: 366849.0\n",
      "Trigger: 0.76 Avg value: 366331.0\n",
      "Trigger: 0.77 Avg value: 365982.0\n",
      "Trigger: 0.78 Avg value: 365642.0\n",
      "Trigger: 0.79 Avg value: 365206.0\n",
      "Trigger: 0.8 Avg value: 364781.0\n",
      "Trigger: 0.81 Avg value: 364366.0\n",
      "Trigger: 0.82 Avg value: 363961.0\n",
      "Trigger: 0.83 Avg value: 363566.0\n",
      "Trigger: 0.84 Avg value: 363180.0\n",
      "Trigger: 0.85 Avg value: 362777.0\n",
      "Trigger: 0.86 Avg value: 362384.0\n",
      "Trigger: 0.87 Avg value: 362000.0\n",
      "Trigger: 0.88 Avg value: 361624.0\n",
      "Trigger: 0.89 Avg value: 361257.0\n",
      "Trigger: 0.9 Avg value: 360898.0\n",
      "Trigger: 0.91 Avg value: 360547.0\n",
      "Trigger: 0.92 Avg value: 360203.0\n",
      "Trigger: 0.93 Avg value: 359856.0\n",
      "Trigger: 0.94 Avg value: 359527.0\n",
      "Trigger: 0.95 Avg value: 359205.0\n",
      "Trigger: 0.96 Avg value: 358891.0\n",
      "Trigger: 0.97 Avg value: 358584.0\n",
      "Trigger: 0.98 Avg value: 358293.0\n",
      "Trigger: 0.99 Avg value: 358007.0\n",
      "Trigger: 1.0 Avg value: 357736.0\n"
     ]
    }
   ],
   "source": [
    "yearly_periods = 52\n",
    "new_money_added = 400*12\n",
    "histories = full_histories[::len(full_histories)//(10*yearly_periods),:]\n",
    "\n",
    "money_row = np.ones(shape=(len(histories),1))\n",
    "histories = np.concatenate((money_row, histories), axis=1)\n",
    "\n",
    "commission = 5.5\n",
    "final_values = []\n",
    "\n",
    "for trigger_ in range(1, 101):\n",
    "    trigger = trigger_/100\n",
    "\n",
    "    bank = 100000\n",
    "    ownership = np.array([bank] + [0]*4)\n",
    "\n",
    "    for step in range(len(histories)):\n",
    "        values = np.multiply(ownership, histories[step,:])\n",
    "        mean_value = np.mean(values)\n",
    "        diffs = (values - mean_value)\n",
    "        percen_diffs = diffs/mean_value\n",
    "        purchase_spots = np.concatenate((np.zeros(1), np.abs(percen_diffs[1:]) >= trigger))\n",
    "\n",
    "        rebalance_purchases = np.multiply(-np.round(np.divide(diffs, histories[step,:]), decimals=-1),\n",
    "                                          purchase_spots)\n",
    "        spent = np.dot(rebalance_purchases, histories[step,:]) + commission * np.sum(purchase_spots) - new_money_added/yearly_periods\n",
    "\n",
    "        assert bank >= 0\n",
    "        ownership = ownership - np.array([spent] + [0]*4) + rebalance_purchases\n",
    "    final_values.append(np.dot(ownership, histories[-1, :]))\n",
    "    print(\"Trigger:\", trigger, \n",
    "          \"Avg value:\", np.round(np.mean(final_values)))"
   ]
  },
  {
   "cell_type": "markdown",
   "metadata": {},
   "source": [
    "Yearly -> Trigger: 0.04 Avg value: 399943.0\n",
    "Quarterly -> Trigger: 0.08 Avg value: 382868.0\n",
    "Bi-Monthly actions -> Trigger: 0.3 Avg value: 372920.0\n",
    "Monthly actions -> Trigger: 0.17 Avg value: 375073.0\n",
    "Bi-Weekly -> Trigger: 0.34 Avg value: 380624.0\n",
    "Weekly -> Trigger: 0.21 Avg value: 388787.0\n"
   ]
  }
 ],
 "metadata": {
  "kernelspec": {
   "display_name": "Python 3",
   "language": "python",
   "name": "python3"
  },
  "language_info": {
   "codemirror_mode": {
    "name": "ipython",
    "version": 3
   },
   "file_extension": ".py",
   "mimetype": "text/x-python",
   "name": "python",
   "nbconvert_exporter": "python",
   "pygments_lexer": "ipython3",
   "version": "3.6.6"
  }
 },
 "nbformat": 4,
 "nbformat_minor": 2
}

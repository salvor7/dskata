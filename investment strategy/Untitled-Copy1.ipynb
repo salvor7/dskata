{
 "cells": [
  {
   "cell_type": "code",
   "execution_count": 1,
   "metadata": {},
   "outputs": [],
   "source": [
    "import numpy as np"
   ]
  },
  {
   "cell_type": "code",
   "execution_count": 2,
   "metadata": {},
   "outputs": [],
   "source": [
    "stocks = 8\n",
    "years = 30\n",
    "yearly_periods = 12\n",
    "\n",
    "trigger = 0.25\n",
    "commission = 5.50\n",
    "\n",
    "changes = np.random.normal(size=(stocks, years*yearly_periods))\n",
    "starts = np.random.poisson(lam=30, size=(stocks, 1))\n",
    "\n",
    "histories = np.round(np.concatenate((starts, changes), axis=1).cumsum(axis=1), decimals=2)\n",
    "\n",
    "money_row = np.ones(shape=(1, years*yearly_periods+1))\n",
    "histories = np.concatenate((money_row, histories), axis=0)"
   ]
  },
  {
   "cell_type": "code",
   "execution_count": 3,
   "metadata": {},
   "outputs": [
    {
     "data": {
      "text/plain": [
       "True"
      ]
     },
     "execution_count": 3,
     "metadata": {},
     "output_type": "execute_result"
    }
   ],
   "source": [
    "# check if histories don't go non-positive\n",
    "(histories <= 0).any()"
   ]
  },
  {
   "cell_type": "code",
   "execution_count": null,
   "metadata": {},
   "outputs": [],
   "source": []
  },
  {
   "cell_type": "code",
   "execution_count": 4,
   "metadata": {},
   "outputs": [
    {
     "ename": "NameError",
     "evalue": "name 'values' is not defined",
     "output_type": "error",
     "traceback": [
      "\u001b[1;31m---------------------------------------------------------------------------\u001b[0m",
      "\u001b[1;31mNameError\u001b[0m                                 Traceback (most recent call last)",
      "\u001b[1;32m<ipython-input-4-aa0e3f007eb0>\u001b[0m in \u001b[0;36m<module>\u001b[1;34m\u001b[0m\n\u001b[1;32m----> 1\u001b[1;33m \u001b[0mvalues\u001b[0m\u001b[1;33m,\u001b[0m \u001b[0mmean_value\u001b[0m\u001b[1;33m,\u001b[0m \u001b[0mpercen_diffs\u001b[0m\u001b[1;33m,\u001b[0m \u001b[0mrebalance_purchases\u001b[0m\u001b[1;33m,\u001b[0m \u001b[0mownership\u001b[0m\u001b[1;33m\u001b[0m\u001b[0m\n\u001b[0m",
      "\u001b[1;31mNameError\u001b[0m: name 'values' is not defined"
     ]
    }
   ],
   "source": [
    "values, mean_value, percen_diffs, rebalance_purchases, ownership"
   ]
  },
  {
   "cell_type": "code",
   "execution_count": 5,
   "metadata": {},
   "outputs": [
    {
     "ename": "NameError",
     "evalue": "name 'final' is not defined",
     "output_type": "error",
     "traceback": [
      "\u001b[1;31m---------------------------------------------------------------------------\u001b[0m",
      "\u001b[1;31mNameError\u001b[0m                                 Traceback (most recent call last)",
      "\u001b[1;32m<ipython-input-5-faec0869773a>\u001b[0m in \u001b[0;36m<module>\u001b[1;34m\u001b[0m\n\u001b[1;32m----> 1\u001b[1;33m \u001b[0mfinal\u001b[0m\u001b[1;33m\u001b[0m\u001b[0m\n\u001b[0m",
      "\u001b[1;31mNameError\u001b[0m: name 'final' is not defined"
     ]
    }
   ],
   "source": [
    "final"
   ]
  },
  {
   "cell_type": "code",
   "execution_count": 6,
   "metadata": {},
   "outputs": [
    {
     "ename": "NameError",
     "evalue": "name 'bank' is not defined",
     "output_type": "error",
     "traceback": [
      "\u001b[1;31m---------------------------------------------------------------------------\u001b[0m",
      "\u001b[1;31mNameError\u001b[0m                                 Traceback (most recent call last)",
      "\u001b[1;32m<ipython-input-6-b05771d72899>\u001b[0m in \u001b[0;36m<module>\u001b[1;34m\u001b[0m\n\u001b[1;32m----> 1\u001b[1;33m \u001b[0mbank\u001b[0m\u001b[1;33m\u001b[0m\u001b[0m\n\u001b[0m",
      "\u001b[1;31mNameError\u001b[0m: name 'bank' is not defined"
     ]
    }
   ],
   "source": [
    "bank"
   ]
  },
  {
   "cell_type": "code",
   "execution_count": 7,
   "metadata": {},
   "outputs": [
    {
     "ename": "NameError",
     "evalue": "name 'ownership' is not defined",
     "output_type": "error",
     "traceback": [
      "\u001b[1;31m---------------------------------------------------------------------------\u001b[0m",
      "\u001b[1;31mNameError\u001b[0m                                 Traceback (most recent call last)",
      "\u001b[1;32m<ipython-input-7-bb449203d787>\u001b[0m in \u001b[0;36m<module>\u001b[1;34m\u001b[0m\n\u001b[1;32m----> 1\u001b[1;33m \u001b[0mownership\u001b[0m \u001b[1;33m-\u001b[0m\u001b[0mnp\u001b[0m\u001b[1;33m.\u001b[0m\u001b[0marray\u001b[0m\u001b[1;33m(\u001b[0m\u001b[1;33m[\u001b[0m\u001b[0mspent\u001b[0m\u001b[1;33m]\u001b[0m \u001b[1;33m+\u001b[0m \u001b[1;33m[\u001b[0m\u001b[1;36m0\u001b[0m\u001b[1;33m]\u001b[0m\u001b[1;33m*\u001b[0m\u001b[0mstocks\u001b[0m\u001b[1;33m)\u001b[0m \u001b[1;33m+\u001b[0m \u001b[0mrebalance_purchases\u001b[0m\u001b[1;33m\u001b[0m\u001b[0m\n\u001b[0m",
      "\u001b[1;31mNameError\u001b[0m: name 'ownership' is not defined"
     ]
    }
   ],
   "source": [
    "ownership -np.array([spent] + [0]*stocks) + rebalance_purchases"
   ]
  },
  {
   "cell_type": "code",
   "execution_count": 9,
   "metadata": {},
   "outputs": [
    {
     "name": "stdout",
     "output_type": "stream",
     "text": [
      "Trigger: 0.01 Avg value: 99559.0\n",
      "Trigger: 0.02 Avg value: 99669.0\n",
      "Trigger: 0.03 Avg value: 99646.0\n",
      "Trigger: 0.04 Avg value: 99714.0\n",
      "Trigger: 0.05 Avg value: 99740.0\n",
      "Trigger: 0.06 Avg value: 99786.0\n",
      "Trigger: 0.07 Avg value: 99756.0\n",
      "Trigger: 0.08 Avg value: 99773.0\n",
      "Trigger: 0.09 Avg value: 99857.0\n",
      "Trigger: 0.1 Avg value: 99938.0\n",
      "Trigger: 0.11 Avg value: 99978.0\n",
      "Trigger: 0.12 Avg value: 99992.0\n",
      "Trigger: 0.13 Avg value: 100054.0\n",
      "Trigger: 0.14 Avg value: 100062.0\n",
      "Trigger: 0.15 Avg value: 100043.0\n",
      "Trigger: 0.16 Avg value: 100042.0\n",
      "Trigger: 0.17 Avg value: 100065.0\n",
      "Trigger: 0.18 Avg value: 100092.0\n",
      "Trigger: 0.19 Avg value: 100084.0\n",
      "Trigger: 0.2 Avg value: 100109.0\n",
      "Trigger: 0.21 Avg value: 100135.0\n",
      "Trigger: 0.22 Avg value: 100144.0\n",
      "Trigger: 0.23 Avg value: 100145.0\n",
      "Trigger: 0.24 Avg value: 100151.0\n",
      "Trigger: 0.25 Avg value: 100131.0\n",
      "Trigger: 0.26 Avg value: 100134.0\n",
      "Trigger: 0.27 Avg value: 100152.0\n",
      "Trigger: 0.28 Avg value: 100136.0\n",
      "Trigger: 0.29 Avg value: 100133.0\n",
      "Trigger: 0.3 Avg value: 100129.0\n",
      "Trigger: 0.31 Avg value: 100145.0\n",
      "Trigger: 0.32 Avg value: 100149.0\n",
      "Trigger: 0.33 Avg value: 100141.0\n",
      "Trigger: 0.34 Avg value: 100146.0\n",
      "Trigger: 0.35 Avg value: 100153.0\n",
      "Trigger: 0.36 Avg value: 100153.0\n",
      "Trigger: 0.37 Avg value: 100151.0\n",
      "Trigger: 0.38 Avg value: 100169.0\n",
      "Trigger: 0.39 Avg value: 100172.0\n",
      "Trigger: 0.4 Avg value: 100163.0\n",
      "Trigger: 0.41 Avg value: 100166.0\n",
      "Trigger: 0.42 Avg value: 100163.0\n",
      "Trigger: 0.43 Avg value: 100193.0\n",
      "Trigger: 0.44 Avg value: 100187.0\n",
      "Trigger: 0.45 Avg value: 100191.0\n",
      "Trigger: 0.46 Avg value: 100189.0\n",
      "Trigger: 0.47 Avg value: 100180.0\n",
      "Trigger: 0.48 Avg value: 100191.0\n",
      "Trigger: 0.49 Avg value: 100193.0\n",
      "Trigger: 0.5 Avg value: 100192.0\n",
      "Trigger: 0.51 Avg value: 100199.0\n",
      "Trigger: 0.52 Avg value: 100210.0\n",
      "Trigger: 0.53 Avg value: 100201.0\n",
      "Trigger: 0.54 Avg value: 100210.0\n",
      "Trigger: 0.55 Avg value: 100207.0\n",
      "Trigger: 0.56 Avg value: 100202.0\n",
      "Trigger: 0.57 Avg value: 100206.0\n",
      "Trigger: 0.58 Avg value: 100216.0\n",
      "Trigger: 0.59 Avg value: 100222.0\n",
      "Trigger: 0.6 Avg value: 100221.0\n",
      "Trigger: 0.61 Avg value: 100223.0\n",
      "Trigger: 0.62 Avg value: 100219.0\n",
      "Trigger: 0.63 Avg value: 100216.0\n",
      "Trigger: 0.64 Avg value: 100220.0\n",
      "Trigger: 0.65 Avg value: 100227.0\n",
      "Trigger: 0.66 Avg value: 100226.0\n",
      "Trigger: 0.67 Avg value: 100217.0\n",
      "Trigger: 0.68 Avg value: 100214.0\n",
      "Trigger: 0.69 Avg value: 100217.0\n",
      "Trigger: 0.7 Avg value: 100217.0\n",
      "Trigger: 0.71 Avg value: 100219.0\n",
      "Trigger: 0.72 Avg value: 100214.0\n",
      "Trigger: 0.73 Avg value: 100212.0\n",
      "Trigger: 0.74 Avg value: 100206.0\n",
      "Trigger: 0.75 Avg value: 100205.0\n",
      "Trigger: 0.76 Avg value: 100209.0\n",
      "Trigger: 0.77 Avg value: 100200.0\n",
      "Trigger: 0.78 Avg value: 100197.0\n",
      "Trigger: 0.79 Avg value: 100199.0\n",
      "Trigger: 0.8 Avg value: 100199.0\n",
      "Trigger: 0.81 Avg value: 100190.0\n",
      "Trigger: 0.82 Avg value: 100196.0\n",
      "Trigger: 0.83 Avg value: 100195.0\n",
      "Trigger: 0.84 Avg value: 100194.0\n",
      "Trigger: 0.85 Avg value: 100188.0\n",
      "Trigger: 0.86 Avg value: 100191.0\n",
      "Trigger: 0.87 Avg value: 100188.0\n",
      "Trigger: 0.88 Avg value: 100187.0\n",
      "Trigger: 0.89 Avg value: 100179.0\n",
      "Trigger: 0.9 Avg value: 100179.0\n",
      "Trigger: 0.91 Avg value: 100180.0\n",
      "Trigger: 0.92 Avg value: 100182.0\n",
      "Trigger: 0.93 Avg value: 100186.0\n",
      "Trigger: 0.94 Avg value: 100186.0\n",
      "Trigger: 0.95 Avg value: 100185.0\n",
      "Trigger: 0.96 Avg value: 100184.0\n",
      "Trigger: 0.97 Avg value: 100187.0\n",
      "Trigger: 0.98 Avg value: 100184.0\n",
      "Trigger: 0.99 Avg value: 100176.0\n",
      "Trigger: 1.0 Avg value: 100174.0\n"
     ]
    }
   ],
   "source": [
    "stocks = 8\n",
    "years = 30\n",
    "yearly_periods = 1\n",
    "commission = 5.5\n",
    "final_values = []\n",
    "\n",
    "for trigger_ in range(1, 101):\n",
    "    trigger = trigger_/100\n",
    "    for _ in range(1000):\n",
    "        first = True\n",
    "        while first or (histories <= 0).any():\n",
    "            changes = np.random.normal(scale=np.sqrt(2), size=(stocks, years*yearly_periods))\n",
    "            starts = np.random.poisson(lam=30, size=(stocks, 1))\n",
    "\n",
    "            histories = np.round(np.concatenate((starts, changes), axis=1).cumsum(axis=1), decimals=2)\n",
    "\n",
    "            money_row = np.ones(shape=(1, years*yearly_periods+1))\n",
    "            histories = np.concatenate((money_row, histories), axis=0)\n",
    "            first = False\n",
    "        bank = 100000\n",
    "        ownership = np.array([bank] + [0]*stocks)\n",
    "\n",
    "        for step in range(years*yearly_periods):\n",
    "            values = np.multiply(ownership, histories[:,step])\n",
    "            mean_value = np.mean(values)\n",
    "            diffs = (values - mean_value)\n",
    "            percen_diffs = diffs/mean_value\n",
    "            purchase_spots = np.concatenate((np.zeros(1), np.abs(percen_diffs[1:]) >= trigger))\n",
    "\n",
    "            rebalance_purchases = np.multiply(-np.round(np.divide(diffs, histories[:,step]), decimals=-1),\n",
    "                                              purchase_spots)\n",
    "            spent = np.dot(rebalance_purchases, histories[:,step]) + commission * np.sum(purchase_spots)\n",
    "\n",
    "            assert bank >= 0\n",
    "            ownership = ownership - np.array([spent] + [0]*stocks) + rebalance_purchases\n",
    "        final_values.append(np.dot(ownership, histories[:, -1]))\n",
    "    print(\"Trigger:\", trigger, \n",
    "          \"Avg value:\", np.round(np.mean(final_values)))"
   ]
  },
  {
   "cell_type": "code",
   "execution_count": null,
   "metadata": {},
   "outputs": [],
   "source": []
  }
 ],
 "metadata": {
  "kernelspec": {
   "display_name": "Python 3",
   "language": "python",
   "name": "python3"
  },
  "language_info": {
   "codemirror_mode": {
    "name": "ipython",
    "version": 3
   },
   "file_extension": ".py",
   "mimetype": "text/x-python",
   "name": "python",
   "nbconvert_exporter": "python",
   "pygments_lexer": "ipython3",
   "version": "3.6.6"
  }
 },
 "nbformat": 4,
 "nbformat_minor": 2
}
